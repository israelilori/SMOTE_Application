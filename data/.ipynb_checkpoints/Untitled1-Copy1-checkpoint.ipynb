{
 "cells": [
  {
   "cell_type": "raw",
   "metadata": {},
   "source": [
    "Last name: ILORI\n",
    "Date: 29-01-2020\n",
    "Approach:\n",
    "Target AUC: 0.825\n",
    "Achieved AUC: "
   ]
  },
  {
   "cell_type": "code",
   "execution_count": 1,
   "metadata": {},
   "outputs": [],
   "source": [
    "import pandas as pd\n",
    "import numpy as np\n",
    "import matplotlib.pyplot as plt\n",
    "import seaborn as sns\n",
    "import xgboost as xgb"
   ]
  },
  {
   "cell_type": "code",
   "execution_count": 2,
   "metadata": {},
   "outputs": [],
   "source": [
    "#import the datasets\n",
    "train_data = pd.read_csv('train.csv')\n",
    "test_data = pd.read_csv('test.csv')"
   ]
  },
  {
   "cell_type": "code",
   "execution_count": 3,
   "metadata": {},
   "outputs": [
    {
     "data": {
      "text/html": [
       "<div>\n",
       "<style scoped>\n",
       "    .dataframe tbody tr th:only-of-type {\n",
       "        vertical-align: middle;\n",
       "    }\n",
       "\n",
       "    .dataframe tbody tr th {\n",
       "        vertical-align: top;\n",
       "    }\n",
       "\n",
       "    .dataframe thead th {\n",
       "        text-align: right;\n",
       "    }\n",
       "</style>\n",
       "<table border=\"1\" class=\"dataframe\">\n",
       "  <thead>\n",
       "    <tr style=\"text-align: right;\">\n",
       "      <th></th>\n",
       "      <th>age</th>\n",
       "      <th>cost_of_ad</th>\n",
       "      <th>device_type</th>\n",
       "      <th>gender</th>\n",
       "      <th>in_initial_launch_location</th>\n",
       "      <th>income</th>\n",
       "      <th>n_drivers</th>\n",
       "      <th>n_vehicles</th>\n",
       "      <th>prior_ins_tenure</th>\n",
       "    </tr>\n",
       "  </thead>\n",
       "  <tbody>\n",
       "    <tr>\n",
       "      <th>0</th>\n",
       "      <td>34</td>\n",
       "      <td>0.005134</td>\n",
       "      <td>Android</td>\n",
       "      <td>F</td>\n",
       "      <td>1</td>\n",
       "      <td>40376</td>\n",
       "      <td>1</td>\n",
       "      <td>3</td>\n",
       "      <td>7</td>\n",
       "    </tr>\n",
       "    <tr>\n",
       "      <th>1</th>\n",
       "      <td>53</td>\n",
       "      <td>0.005223</td>\n",
       "      <td>desktop</td>\n",
       "      <td>F</td>\n",
       "      <td>1</td>\n",
       "      <td>84511</td>\n",
       "      <td>1</td>\n",
       "      <td>1</td>\n",
       "      <td>11</td>\n",
       "    </tr>\n",
       "    <tr>\n",
       "      <th>2</th>\n",
       "      <td>46</td>\n",
       "      <td>0.004939</td>\n",
       "      <td>laptop</td>\n",
       "      <td>F</td>\n",
       "      <td>0</td>\n",
       "      <td>79322</td>\n",
       "      <td>1</td>\n",
       "      <td>1</td>\n",
       "      <td>4</td>\n",
       "    </tr>\n",
       "    <tr>\n",
       "      <th>3</th>\n",
       "      <td>36</td>\n",
       "      <td>0.004924</td>\n",
       "      <td>Android</td>\n",
       "      <td>F</td>\n",
       "      <td>0</td>\n",
       "      <td>63295</td>\n",
       "      <td>1</td>\n",
       "      <td>2</td>\n",
       "      <td>0</td>\n",
       "    </tr>\n",
       "    <tr>\n",
       "      <th>4</th>\n",
       "      <td>28</td>\n",
       "      <td>0.005146</td>\n",
       "      <td>other</td>\n",
       "      <td>F</td>\n",
       "      <td>1</td>\n",
       "      <td>36170</td>\n",
       "      <td>1</td>\n",
       "      <td>3</td>\n",
       "      <td>3</td>\n",
       "    </tr>\n",
       "  </tbody>\n",
       "</table>\n",
       "</div>"
      ],
      "text/plain": [
       "   age  cost_of_ad device_type gender  in_initial_launch_location  income  \\\n",
       "0   34    0.005134     Android      F                           1   40376   \n",
       "1   53    0.005223     desktop      F                           1   84511   \n",
       "2   46    0.004939      laptop      F                           0   79322   \n",
       "3   36    0.004924     Android      F                           0   63295   \n",
       "4   28    0.005146       other      F                           1   36170   \n",
       "\n",
       "   n_drivers  n_vehicles  prior_ins_tenure  \n",
       "0          1           3                 7  \n",
       "1          1           1                11  \n",
       "2          1           1                 4  \n",
       "3          1           2                 0  \n",
       "4          1           3                 3  "
      ]
     },
     "execution_count": 3,
     "metadata": {},
     "output_type": "execute_result"
    }
   ],
   "source": [
    "#check first five observations of the data\n",
    "train_data.head(5)\n",
    "test_data.head(5)"
   ]
  },
  {
   "cell_type": "code",
   "execution_count": 4,
   "metadata": {},
   "outputs": [
    {
     "name": "stdout",
     "output_type": "stream",
     "text": [
      "<class 'pandas.core.frame.DataFrame'>\n",
      "RangeIndex: 10000 entries, 0 to 9999\n",
      "Data columns (total 10 columns):\n",
      "age                           10000 non-null int64\n",
      "cost_of_ad                    10000 non-null float64\n",
      "device_type                   10000 non-null object\n",
      "gender                        9731 non-null object\n",
      "in_initial_launch_location    10000 non-null int64\n",
      "income                        10000 non-null int64\n",
      "n_drivers                     10000 non-null int64\n",
      "n_vehicles                    10000 non-null int64\n",
      "prior_ins_tenure              10000 non-null int64\n",
      "outcome                       10000 non-null int64\n",
      "dtypes: float64(1), int64(7), object(2)\n",
      "memory usage: 781.3+ KB\n",
      "<class 'pandas.core.frame.DataFrame'>\n",
      "RangeIndex: 10000 entries, 0 to 9999\n",
      "Data columns (total 9 columns):\n",
      "age                           10000 non-null int64\n",
      "cost_of_ad                    10000 non-null float64\n",
      "device_type                   10000 non-null object\n",
      "gender                        9751 non-null object\n",
      "in_initial_launch_location    10000 non-null int64\n",
      "income                        10000 non-null int64\n",
      "n_drivers                     10000 non-null int64\n",
      "n_vehicles                    10000 non-null int64\n",
      "prior_ins_tenure              10000 non-null int64\n",
      "dtypes: float64(1), int64(6), object(2)\n",
      "memory usage: 703.2+ KB\n"
     ]
    }
   ],
   "source": [
    "#check info of the data for missing values and shape \n",
    "train_data.info()\n",
    "test_data.info()"
   ]
  },
  {
   "cell_type": "code",
   "execution_count": 5,
   "metadata": {},
   "outputs": [],
   "source": [
    "#train_data.describe()\n",
    "#test_data.describe()"
   ]
  },
  {
   "cell_type": "code",
   "execution_count": 6,
   "metadata": {},
   "outputs": [
    {
     "name": "stderr",
     "output_type": "stream",
     "text": [
      "C:\\Users\\Israel Ilori\\Anaconda3\\lib\\site-packages\\scipy\\stats\\stats.py:1713: FutureWarning: Using a non-tuple sequence for multidimensional indexing is deprecated; use `arr[tuple(seq)]` instead of `arr[seq]`. In the future this will be interpreted as an array index, `arr[np.array(seq)]`, which will result either in an error or a different result.\n",
      "  return np.add.reduce(sorted[indexer] * weights, axis=axis) / sumval\n"
     ]
    },
    {
     "data": {
      "text/plain": [
       "<matplotlib.axes._subplots.AxesSubplot at 0x26ea506e5f8>"
      ]
     },
     "execution_count": 6,
     "metadata": {},
     "output_type": "execute_result"
    },
    {
     "data": {
      "image/png": "[encoded data removed]",
      "text/plain": [
       "<Figure size 288x288 with 1 Axes>"
      ]
     },
     "metadata": {
      "needs_background": "light"
     },
     "output_type": "display_data"
    }
   ],
   "source": [
    "fig, ax = plt.subplots(figsize=(4, 4))\n",
    "sns.distplot(train_data.outcome, ax=ax)"
   ]
  },
  {
   "cell_type": "code",
   "execution_count": 7,
   "metadata": {},
   "outputs": [
    {
     "data": {
      "text/plain": [
       "<matplotlib.axes._subplots.AxesSubplot at 0x26ea721e320>"
      ]
     },
     "execution_count": 7,
     "metadata": {},
     "output_type": "execute_result"
    },
    {
     "data": {
      "image/png": "[encoded data removed]",
      "text/plain": [
       "<Figure size 432x288 with 1 Axes>"
      ]
     },
     "metadata": {
      "needs_background": "light"
     },
     "output_type": "display_data"
    }
   ],
   "source": [
    "import seaborn as sns\n",
    "sns.boxplot(x='outcome', data = train_data)"
   ]
  },
  {
   "cell_type": "code",
   "execution_count": 8,
   "metadata": {},
   "outputs": [
    {
     "data": {
      "text/plain": [
       "<matplotlib.axes._subplots.AxesSubplot at 0x26ea7297a90>"
      ]
     },
     "execution_count": 8,
     "metadata": {},
     "output_type": "execute_result"
    },
    {
     "data": {
      "image/png": "[encoded data removed]",
      "text/plain": [
       "<Figure size 720x432 with 2 Axes>"
      ]
     },
     "metadata": {
      "needs_background": "light"
     },
     "output_type": "display_data"
    }
   ],
   "source": [
    "#EDA to look at the correlation between features in the data\n",
    "a = train_data.iloc[:,:9]\n",
    "corr_matrix = a.corr()\n",
    "plt.subplots(figsize=(10,6))\n",
    "sns.heatmap(corr_matrix, vmax=0.9, square=True)"
   ]
  },
  {
   "cell_type": "code",
   "execution_count": 9,
   "metadata": {},
   "outputs": [],
   "source": [
    "#Feature encoding for categorical values in the dataset\n",
    "from sklearn.preprocessing import LabelEncoder\n",
    "\n",
    "number = LabelEncoder()\n",
    "train_data['gender'] = number.fit_transform(train_data['gender'].astype('str'))\n",
    "test_data['gender'] = number.fit_transform(test_data['gender'].astype('str'))\n",
    "train_data['device_type'] = number.fit_transform(train_data['device_type'].astype('str'))\n",
    "test_data['device_type'] = number.fit_transform(test_data['device_type'].astype('str'))\n"
   ]
  },
  {
   "cell_type": "code",
   "execution_count": 10,
   "metadata": {},
   "outputs": [],
   "source": [
    "#splitting the data\n",
    "from sklearn.preprocessing import StandardScaler\n",
    "from sklearn.model_selection import train_test_split\n",
    "\n",
    "X = train_data.iloc[:,:9].values \n",
    "y = train_data.iloc[:,9].values\n",
    "test = test_data.iloc[:,:].values\n",
    "\n",
    "\n",
    "#X = xgb.DMatrix(X, y)\n",
    "#y = xgb.DMatrix(test)\n",
    "\n",
    "#Standardizing the data\n",
    "scaler = StandardScaler()\n",
    "\n",
    "X_train, X_test, y_train, y_test = train_test_split(X, y, test_size = 0.3, random_state = 2)\n",
    "\n",
    "scaler.fit(X_train)\n",
    "X_train_scaled = scaler.transform(X_train)\n",
    "X_test_scaled = scaler.transform(X_test)\n",
    "\n",
    "dim_x_train = X_train_scaled.reshape (X_train_scaled.shape[0],X_train_scaled.shape[1],1)\n",
    "dim_x_test = X_test_scaled.reshape(X_test_scaled.shape[0],X_test_scaled.shape[1],1)"
   ]
  },
  {
   "cell_type": "code",
   "execution_count": 62,
   "metadata": {},
   "outputs": [
    {
     "data": {
      "text/plain": [
       "array([0, 0, 0, ..., 0, 0, 0], dtype=int64)"
      ]
     },
     "execution_count": 62,
     "metadata": {},
     "output_type": "execute_result"
    }
   ],
   "source": [
    "y_test"
   ]
  },
  {
   "cell_type": "code",
   "execution_count": null,
   "metadata": {},
   "outputs": [],
   "source": []
  },
  {
   "cell_type": "code",
   "execution_count": 54,
   "metadata": {},
   "outputs": [
    {
     "name": "stdout",
     "output_type": "stream",
     "text": [
      "Mean ROC AUC: 1.000\n",
      "> k=1, Mean ROC AUC: 1.000\n",
      "Mean ROC AUC: 1.000\n",
      "> k=2, Mean ROC AUC: 1.000\n",
      "Mean ROC AUC: 1.000\n",
      "> k=3, Mean ROC AUC: 1.000\n",
      "Mean ROC AUC: 1.000\n",
      "> k=4, Mean ROC AUC: 1.000\n",
      "Mean ROC AUC: 1.000\n",
      "> k=5, Mean ROC AUC: 1.000\n",
      "Mean ROC AUC: 1.000\n",
      "> k=6, Mean ROC AUC: 1.000\n",
      "Mean ROC AUC: 1.000\n",
      "> k=7, Mean ROC AUC: 1.000\n",
      "Mean ROC AUC: 1.000\n",
      "> k=8, Mean ROC AUC: 1.000\n"
     ]
    }
   ],
   "source": [
    "from imblearn.over_sampling import SMOTE\n",
    "from imblearn.over_sampling import SMOTENC\n",
    "from imblearn.under_sampling import RandomUnderSampler\n",
    "from imblearn.pipeline import Pipeline\n",
    "from sklearn.tree import DecisionTreeClassifier\n",
    "from sklearn.model_selection import cross_val_score\n",
    "from sklearn.ensemble import RandomForestClassifier\n",
    "from sklearn.model_selection import RepeatedStratifiedKFold\n",
    "from numpy import mean\n",
    "\n",
    "k_range = [1,2,3,4,5,6,7,8]\n",
    "for k in k_range:\n",
    "    smote = SMOTE(sampling_strategy='minority', random_state=42, k_neighbors=k, n_jobs=6)\n",
    "    rus = RandomUnderSampler(sampling_strategy='majority')\n",
    "    steps = [('o', smote), ('u', rus), ('model', RandomForestClassifier())]\n",
    "    pipeline = Pipeline(steps=steps)\n",
    "\n",
    "    cv = RepeatedStratifiedKFold(n_splits=10, n_repeats=3, random_state=1)\n",
    "    scores = cross_val_score(pipeline, X_train, y_train, scoring='roc_auc', cv=cv, n_jobs=-1)\n",
    "    score = mean(scores)\n",
    "    print('Mean ROC AUC: %.3f' % mean(scores))\n",
    "    print('> k=%d, Mean ROC AUC: %.3f' % (k, score))\n"
   ]
  },
  {
   "cell_type": "code",
   "execution_count": 60,
   "metadata": {},
   "outputs": [
    {
     "ename": "AttributeError",
     "evalue": "'numpy.ndarray' object has no attribute 'y_train'",
     "output_type": "error",
     "traceback": [
      "\u001b[1;31m---------------------------------------------------------------------------\u001b[0m",
      "\u001b[1;31mAttributeError\u001b[0m                            Traceback (most recent call last)",
      "\u001b[1;32m<ipython-input-60-98a6bce181b4>\u001b[0m in \u001b[0;36m<module>\u001b[1;34m\u001b[0m\n\u001b[0;32m      2\u001b[0m \u001b[0my\u001b[0m\u001b[1;33m.\u001b[0m\u001b[0mshape\u001b[0m\u001b[1;33m,\u001b[0m \u001b[1;33m(\u001b[0m\u001b[0my\u001b[0m\u001b[1;33m==\u001b[0m\u001b[1;36m1\u001b[0m\u001b[1;33m)\u001b[0m\u001b[1;33m.\u001b[0m\u001b[0msum\u001b[0m\u001b[1;33m(\u001b[0m\u001b[1;33m)\u001b[0m\u001b[1;33m\u001b[0m\u001b[1;33m\u001b[0m\u001b[0m\n\u001b[0;32m      3\u001b[0m \u001b[0my_train\u001b[0m\u001b[1;33m.\u001b[0m\u001b[0mshape\u001b[0m\u001b[1;33m,\u001b[0m \u001b[1;33m(\u001b[0m\u001b[0my_train\u001b[0m\u001b[1;33m==\u001b[0m\u001b[1;36m1\u001b[0m\u001b[1;33m)\u001b[0m\u001b[1;33m.\u001b[0m\u001b[0msum\u001b[0m\u001b[1;33m(\u001b[0m\u001b[1;33m)\u001b[0m\u001b[1;33m\u001b[0m\u001b[1;33m\u001b[0m\u001b[0m\n\u001b[1;32m----> 4\u001b[1;33m \u001b[0mscores\u001b[0m\u001b[1;33m.\u001b[0m\u001b[0my_train\u001b[0m\u001b[1;33m\u001b[0m\u001b[1;33m\u001b[0m\u001b[0m\n\u001b[0m",
      "\u001b[1;31mAttributeError\u001b[0m: 'numpy.ndarray' object has no attribute 'y_train'"
     ]
    }
   ],
   "source": [
    "#SMOTE\n",
    "y.shape, (y==1).sum()\n",
    "y_train.shape, (y_train==1).sum()"
   ]
  },
  {
   "cell_type": "code",
   "execution_count": 56,
   "metadata": {},
   "outputs": [
    {
     "name": "stderr",
     "output_type": "stream",
     "text": [
      "C:\\Users\\Israel Ilori\\Anaconda3\\lib\\site-packages\\scipy\\stats\\stats.py:1713: FutureWarning: Using a non-tuple sequence for multidimensional indexing is deprecated; use `arr[tuple(seq)]` instead of `arr[seq]`. In the future this will be interpreted as an array index, `arr[np.array(seq)]`, which will result either in an error or a different result.\n",
      "  return np.add.reduce(sorted[indexer] * weights, axis=axis) / sumval\n"
     ]
    },
    {
     "data": {
      "text/plain": [
       "<matplotlib.axes._subplots.AxesSubplot at 0x26eb0e4aac8>"
      ]
     },
     "execution_count": 56,
     "metadata": {},
     "output_type": "execute_result"
    },
    {
     "data": {
      "image/png": "[encoded data removed]",
      "text/plain": [
       "<Figure size 288x288 with 1 Axes>"
      ]
     },
     "metadata": {
      "needs_background": "light"
     },
     "output_type": "display_data"
    }
   ],
   "source": [
    "fig, ax = plt.subplots(figsize=(4, 4))\n",
    "sns.distplot(y_train, ax=ax)"
   ]
  },
  {
   "cell_type": "code",
   "execution_count": 57,
   "metadata": {},
   "outputs": [
    {
     "data": {
      "text/plain": [
       "<matplotlib.axes._subplots.AxesSubplot at 0x26eb207d438>"
      ]
     },
     "execution_count": 57,
     "metadata": {},
     "output_type": "execute_result"
    },
    {
     "data": {
      "image/png": "[encoded data removed]",
      "text/plain": [
       "<Figure size 432x288 with 1 Axes>"
      ]
     },
     "metadata": {
      "needs_background": "light"
     },
     "output_type": "display_data"
    }
   ],
   "source": [
    "import seaborn as sns\n",
    "sns.boxplot(x=y_train)"
   ]
  },
  {
   "cell_type": "code",
   "execution_count": 58,
   "metadata": {},
   "outputs": [
    {
     "name": "stdout",
     "output_type": "stream",
     "text": [
      "0.687\n",
      "0.33262260127931775\n",
      "0.7430862831858407\n"
     ]
    }
   ],
   "source": [
    "#fitting the models\n",
    "from sklearn.metrics import accuracy_score, f1_score, auc, roc_curve, roc_auc_score\n",
    "from sklearn.linear_model import LogisticRegression\n",
    "from sklearn.ensemble import RandomForestClassifier\n",
    "from xgboost.sklearn import XGBClassifier\n",
    "from sklearn import svm\n",
    "from sklearn.discriminant_analysis import LinearDiscriminantAnalysis\n",
    "from sklearn.discriminant_analysis import QuadraticDiscriminantAnalysis\n",
    "\n",
    "#lr = LogisticRegression()\n",
    "rfc = RandomForestClassifier(n_estimators = 1600, min_samples_split = 10, \n",
    "                             min_samples_leaf = 2, max_depth = 2, max_features = 3, criterion = 'gini')\n",
    "#xgb = XGBClassifier(n_estimators = 1000, min_samples_split = 5, \n",
    " #                  min_samples_leaf = 4, max_depth = 15, max_features = 2)\n",
    "svmc = LinearDiscriminantAnalysis(solver='lsqr')\n",
    "qda = QuadraticDiscriminantAnalysis()\n",
    "\n",
    "#lr.fit(X_train, y_train)\n",
    "#rfc.fit(X_train, y_train)\n",
    "#xgb.fit(X_train, y_train)\n",
    "rfc.fit(X_train, y_train)\n",
    "\n",
    "y_pred = rfc.predict(X_test)\n",
    "\n",
    "#calculate accuracy\n",
    "from sklearn import metrics\n",
    "print(metrics.accuracy_score(y_test, y_pred))\n",
    "print(metrics.f1_score(y_test, y_pred))\n",
    "print(metrics.roc_auc_score(y_test, y_pred))"
   ]
  },
  {
   "cell_type": "code",
   "execution_count": 16,
   "metadata": {},
   "outputs": [
    {
     "data": {
      "text/plain": [
       "(288, 585)"
      ]
     },
     "execution_count": 16,
     "metadata": {},
     "output_type": "execute_result"
    }
   ],
   "source": [
    "(y_test == 1).sum(), (y_pred == 1).sum()"
   ]
  },
  {
   "cell_type": "code",
   "execution_count": 17,
   "metadata": {},
   "outputs": [
    {
     "ename": "AttributeError",
     "evalue": "module 'xgboost' has no attribute 'classes_'",
     "output_type": "error",
     "traceback": [
      "\u001b[1;31m---------------------------------------------------------------------------\u001b[0m",
      "\u001b[1;31mAttributeError\u001b[0m                            Traceback (most recent call last)",
      "\u001b[1;32m<ipython-input-17-fe771ec172f3>\u001b[0m in \u001b[0;36m<module>\u001b[1;34m\u001b[0m\n\u001b[0;32m     15\u001b[0m \u001b[0mac\u001b[0m \u001b[1;33m=\u001b[0m \u001b[0mscaler\u001b[0m\u001b[1;33m.\u001b[0m\u001b[0mtransform\u001b[0m\u001b[1;33m(\u001b[0m\u001b[0mpred_test\u001b[0m\u001b[1;33m)\u001b[0m\u001b[1;33m\u001b[0m\u001b[1;33m\u001b[0m\u001b[0m\n\u001b[0;32m     16\u001b[0m \u001b[1;31m#predictions = xgb.dump_model(ac)\u001b[0m\u001b[1;33m\u001b[0m\u001b[1;33m\u001b[0m\u001b[1;33m\u001b[0m\u001b[0m\n\u001b[1;32m---> 17\u001b[1;33m \u001b[0mpredictions\u001b[0m \u001b[1;33m=\u001b[0m \u001b[0mxgb\u001b[0m\u001b[1;33m.\u001b[0m\u001b[0mclasses_\u001b[0m\u001b[1;33m\u001b[0m\u001b[1;33m\u001b[0m\u001b[0m\n\u001b[0m\u001b[0;32m     18\u001b[0m \u001b[1;33m\u001b[0m\u001b[0m\n\u001b[0;32m     19\u001b[0m \u001b[1;31m#Save the outcome variable to a dataframe\u001b[0m\u001b[1;33m\u001b[0m\u001b[1;33m\u001b[0m\u001b[1;33m\u001b[0m\u001b[0m\n",
      "\u001b[1;31mAttributeError\u001b[0m: module 'xgboost' has no attribute 'classes_'"
     ]
    }
   ],
   "source": [
    "#Predicting on the test set\n",
    "#Use classes_ to get the two distinct classes\n",
    "\n",
    "#add a new column to the test data and call it test observations\n",
    "test_data2 = pd.read_csv('test.csv')\n",
    "    \n",
    "test_data2.insert(0, 'test_observations', range(1, 1 + len(test_data2)))\n",
    "\n",
    "test_data2['gender'] = number.fit_transform(test_data2['gender'].astype('str'))\n",
    "test_data2['device_type'] = number.fit_transform(test_data2['device_type'].astype('str'))\n",
    "\n",
    "\n",
    "pred_test = test_data2.iloc[:,1:]\n",
    "\n",
    "ac = scaler.transform(pred_test)\n",
    "#predictions = xgb.dump_model(ac)\n",
    "predictions = xgb.classes_\n",
    "\n",
    "#Save the outcome variable to a dataframe\n",
    "resultDf = pd.DataFrame(predictions)\n"
   ]
  },
  {
   "cell_type": "code",
   "execution_count": null,
   "metadata": {},
   "outputs": [],
   "source": [
    "#y_pred = pd.DataFrame(y_pred)"
   ]
  },
  {
   "cell_type": "code",
   "execution_count": null,
   "metadata": {},
   "outputs": [],
   "source": [
    "np.where (y_pred == 1)"
   ]
  },
  {
   "cell_type": "code",
   "execution_count": null,
   "metadata": {},
   "outputs": [],
   "source": []
  },
  {
   "cell_type": "code",
   "execution_count": null,
   "metadata": {},
   "outputs": [],
   "source": [
    "test2.head(5)"
   ]
  },
  {
   "cell_type": "code",
   "execution_count": null,
   "metadata": {},
   "outputs": [],
   "source": [
    "#resultDf = xgb.trees_to_dataframe()\n",
    "\n",
    "test_data3 = test_data2\n",
    "test_id = test_data3[\"test_observations\"]\n",
    "\n",
    "#Export to csv to get a report format for the outcome variable\n",
    "sub = pd.DataFrame()\n",
    "sub['test_observations'] = test_id\n",
    "sub['target'] = resultDf\n",
    "sub.to_csv('result.csv', index=False)\n",
    "\n",
    "result_data = pd.read_csv('result.csv')"
   ]
  },
  {
   "cell_type": "code",
   "execution_count": null,
   "metadata": {},
   "outputs": [],
   "source": [
    "result_data.head(10)"
   ]
  },
  {
   "cell_type": "code",
   "execution_count": null,
   "metadata": {},
   "outputs": [],
   "source": []
  }
 ],
 "metadata": {
  "kernelspec": {
   "display_name": "Python 3",
   "language": "python",
   "name": "python3"
  },
  "language_info": {
   "codemirror_mode": {
    "name": "ipython",
    "version": 3
   },
   "file_extension": ".py",
   "mimetype": "text/x-python",
   "name": "python",
   "nbconvert_exporter": "python",
   "pygments_lexer": "ipython3",
   "version": "3.6.8"
  }
 },
 "nbformat": 4,
 "nbformat_minor": 4
}
